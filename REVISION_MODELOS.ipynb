{
 "cells": [
  {
   "cell_type": "markdown",
   "id": "30637eb5",
   "metadata": {},
   "source": [
    "# CARGUE DE LOS DATOS Y TRANSFORMACIONES"
   ]
  },
  {
   "cell_type": "code",
   "execution_count": 10,
   "id": "dd6f63d6",
   "metadata": {},
   "outputs": [
    {
     "name": "stdout",
     "output_type": "stream",
     "text": [
      "Defaulting to user installation because normal site-packages is not writeable\n",
      "Collecting sodapy\n",
      "  Using cached sodapy-2.2.0-py2.py3-none-any.whl (15 kB)\n",
      "Requirement already satisfied: requests>=2.28.1 in c:\\users\\valen\\appdata\\local\\packages\\pythonsoftwarefoundation.python.3.12_qbz5n2kfra8p0\\localcache\\local-packages\\python312\\site-packages (from sodapy) (2.31.0)\n",
      "Requirement already satisfied: charset-normalizer<4,>=2 in c:\\users\\valen\\appdata\\local\\packages\\pythonsoftwarefoundation.python.3.12_qbz5n2kfra8p0\\localcache\\local-packages\\python312\\site-packages (from requests>=2.28.1->sodapy) (3.3.0)\n",
      "Requirement already satisfied: idna<4,>=2.5 in c:\\users\\valen\\appdata\\local\\packages\\pythonsoftwarefoundation.python.3.12_qbz5n2kfra8p0\\localcache\\local-packages\\python312\\site-packages (from requests>=2.28.1->sodapy) (3.4)\n",
      "Requirement already satisfied: urllib3<3,>=1.21.1 in c:\\users\\valen\\appdata\\local\\packages\\pythonsoftwarefoundation.python.3.12_qbz5n2kfra8p0\\localcache\\local-packages\\python312\\site-packages (from requests>=2.28.1->sodapy) (2.0.6)\n",
      "Requirement already satisfied: certifi>=2017.4.17 in c:\\users\\valen\\appdata\\local\\packages\\pythonsoftwarefoundation.python.3.12_qbz5n2kfra8p0\\localcache\\local-packages\\python312\\site-packages (from requests>=2.28.1->sodapy) (2023.7.22)\n",
      "Installing collected packages: sodapy\n",
      "Successfully installed sodapy-2.2.0\n",
      "Note: you may need to restart the kernel to use updated packages.\n"
     ]
    },
    {
     "name": "stderr",
     "output_type": "stream",
     "text": [
      "\n",
      "[notice] A new release of pip is available: 23.2.1 -> 23.3.1\n",
      "[notice] To update, run: C:\\Users\\valen\\AppData\\Local\\Microsoft\\WindowsApps\\PythonSoftwareFoundation.Python.3.12_qbz5n2kfra8p0\\python.exe -m pip install --upgrade pip\n"
     ]
    }
   ],
   "source": [
    "pip install sodapy\n"
   ]
  },
  {
   "cell_type": "code",
   "execution_count": 11,
   "id": "8aa50332",
   "metadata": {},
   "outputs": [
    {
     "name": "stdout",
     "output_type": "stream",
     "text": [
      "Defaulting to user installation because normal site-packages is not writeable\n",
      "Collecting xgboost\n",
      "  Obtaining dependency information for xgboost from https://files.pythonhosted.org/packages/11/6f/419545a6a344cfd1358a80c36a06431881d607830483ef63d7c38905cd22/xgboost-2.0.1-py3-none-win_amd64.whl.metadata\n",
      "  Using cached xgboost-2.0.1-py3-none-win_amd64.whl.metadata (2.0 kB)\n",
      "Requirement already satisfied: numpy in c:\\users\\valen\\appdata\\local\\packages\\pythonsoftwarefoundation.python.3.12_qbz5n2kfra8p0\\localcache\\local-packages\\python312\\site-packages (from xgboost) (1.26.1)\n",
      "Collecting scipy (from xgboost)\n",
      "  Obtaining dependency information for scipy from https://files.pythonhosted.org/packages/f4/ce/be0b376ba6069f3f8ba240aa532a374733447453c93582d4c474effdde21/scipy-1.11.3-cp312-cp312-win_amd64.whl.metadata\n",
      "  Downloading scipy-1.11.3-cp312-cp312-win_amd64.whl.metadata (60 kB)\n",
      "     ---------------------------------------- 0.0/60.4 kB ? eta -:--:--\n",
      "     ------------ ------------------------- 20.5/60.4 kB 330.3 kB/s eta 0:00:01\n",
      "     ------------------------- ------------ 41.0/60.4 kB 393.8 kB/s eta 0:00:01\n",
      "     -------------------------------------- 60.4/60.4 kB 460.2 kB/s eta 0:00:00\n",
      "Using cached xgboost-2.0.1-py3-none-win_amd64.whl (99.7 MB)\n",
      "Downloading scipy-1.11.3-cp312-cp312-win_amd64.whl (43.7 MB)\n",
      "   ---------------------------------------- 0.0/43.7 MB ? eta -:--:--\n",
      "   ---------------------------------------- 0.1/43.7 MB 2.3 MB/s eta 0:00:19\n",
      "   ---------------------------------------- 0.3/43.7 MB 4.2 MB/s eta 0:00:11\n",
      "   - -------------------------------------- 1.4/43.7 MB 11.1 MB/s eta 0:00:04\n",
      "   --- ------------------------------------ 3.3/43.7 MB 19.2 MB/s eta 0:00:03\n",
      "   ---- ----------------------------------- 5.4/43.7 MB 22.9 MB/s eta 0:00:02\n",
      "   ------ --------------------------------- 7.5/43.7 MB 26.5 MB/s eta 0:00:02\n",
      "   -------- ------------------------------- 9.4/43.7 MB 30.0 MB/s eta 0:00:02\n",
      "   ---------- ----------------------------- 11.0/43.7 MB 40.9 MB/s eta 0:00:01\n",
      "   ----------- ---------------------------- 12.9/43.7 MB 43.7 MB/s eta 0:00:01\n",
      "   ------------ --------------------------- 14.1/43.7 MB 38.6 MB/s eta 0:00:01\n",
      "   -------------- ------------------------- 15.4/43.7 MB 36.4 MB/s eta 0:00:01\n",
      "   --------------- ------------------------ 17.4/43.7 MB 36.4 MB/s eta 0:00:01\n",
      "   ----------------- ---------------------- 18.6/43.7 MB 36.4 MB/s eta 0:00:01\n",
      "   ------------------ --------------------- 20.3/43.7 MB 38.5 MB/s eta 0:00:01\n",
      "   -------------------- ------------------- 22.0/43.7 MB 38.6 MB/s eta 0:00:01\n",
      "   --------------------- ------------------ 24.0/43.7 MB 40.9 MB/s eta 0:00:01\n",
      "   ----------------------- ---------------- 26.0/43.7 MB 40.9 MB/s eta 0:00:01\n",
      "   ------------------------- -------------- 27.9/43.7 MB 40.9 MB/s eta 0:00:01\n",
      "   --------------------------- ------------ 30.0/43.7 MB 40.9 MB/s eta 0:00:01\n",
      "   ----------------------------- ---------- 32.0/43.7 MB 40.9 MB/s eta 0:00:01\n",
      "   ------------------------------- -------- 34.1/43.7 MB 38.5 MB/s eta 0:00:01\n",
      "   --------------------------------- ------ 36.2/43.7 MB 38.5 MB/s eta 0:00:01\n",
      "   ----------------------------------- ---- 38.3/43.7 MB 43.7 MB/s eta 0:00:01\n",
      "   ------------------------------------ --- 40.3/43.7 MB 40.9 MB/s eta 0:00:01\n",
      "   -------------------------------------- - 41.8/43.7 MB 40.9 MB/s eta 0:00:01\n",
      "   ---------------------------------------  43.2/43.7 MB 40.9 MB/s eta 0:00:01\n",
      "   ---------------------------------------  43.7/43.7 MB 38.6 MB/s eta 0:00:01\n",
      "   ---------------------------------------  43.7/43.7 MB 38.6 MB/s eta 0:00:01\n",
      "   ---------------------------------------  43.7/43.7 MB 38.6 MB/s eta 0:00:01\n",
      "   ---------------------------------------  43.7/43.7 MB 38.6 MB/s eta 0:00:01\n",
      "   ---------------------------------------  43.7/43.7 MB 38.6 MB/s eta 0:00:01\n",
      "   ---------------------------------------- 43.7/43.7 MB 21.8 MB/s eta 0:00:00\n",
      "Installing collected packages: scipy, xgboost\n",
      "Successfully installed scipy-1.11.3 xgboost-2.0.1\n",
      "Note: you may need to restart the kernel to use updated packages.\n"
     ]
    },
    {
     "name": "stderr",
     "output_type": "stream",
     "text": [
      "\n",
      "[notice] A new release of pip is available: 23.2.1 -> 23.3.1\n",
      "[notice] To update, run: C:\\Users\\valen\\AppData\\Local\\Microsoft\\WindowsApps\\PythonSoftwareFoundation.Python.3.12_qbz5n2kfra8p0\\python.exe -m pip install --upgrade pip\n"
     ]
    }
   ],
   "source": [
    "pip install xgboost\n"
   ]
  },
  {
   "cell_type": "code",
   "execution_count": 17,
   "id": "ccdc7750",
   "metadata": {},
   "outputs": [
    {
     "name": "stdout",
     "output_type": "stream",
     "text": [
      "Defaulting to user installation because normal site-packages is not writeable\n",
      "Requirement already satisfied: matplotlib in c:\\users\\valen\\appdata\\local\\packages\\pythonsoftwarefoundation.python.3.12_qbz5n2kfra8p0\\localcache\\local-packages\\python312\\site-packages (3.8.1)\n",
      "Requirement already satisfied: contourpy>=1.0.1 in c:\\users\\valen\\appdata\\local\\packages\\pythonsoftwarefoundation.python.3.12_qbz5n2kfra8p0\\localcache\\local-packages\\python312\\site-packages (from matplotlib) (1.2.0)\n",
      "Requirement already satisfied: cycler>=0.10 in c:\\users\\valen\\appdata\\local\\packages\\pythonsoftwarefoundation.python.3.12_qbz5n2kfra8p0\\localcache\\local-packages\\python312\\site-packages (from matplotlib) (0.12.1)\n",
      "Requirement already satisfied: fonttools>=4.22.0 in c:\\users\\valen\\appdata\\local\\packages\\pythonsoftwarefoundation.python.3.12_qbz5n2kfra8p0\\localcache\\local-packages\\python312\\site-packages (from matplotlib) (4.44.0)\n",
      "Requirement already satisfied: kiwisolver>=1.3.1 in c:\\users\\valen\\appdata\\local\\packages\\pythonsoftwarefoundation.python.3.12_qbz5n2kfra8p0\\localcache\\local-packages\\python312\\site-packages (from matplotlib) (1.4.5)\n",
      "Requirement already satisfied: numpy<2,>=1.21 in c:\\users\\valen\\appdata\\local\\packages\\pythonsoftwarefoundation.python.3.12_qbz5n2kfra8p0\\localcache\\local-packages\\python312\\site-packages (from matplotlib) (1.26.1)\n",
      "Requirement already satisfied: packaging>=20.0 in c:\\users\\valen\\appdata\\local\\packages\\pythonsoftwarefoundation.python.3.12_qbz5n2kfra8p0\\localcache\\local-packages\\python312\\site-packages (from matplotlib) (23.2)\n",
      "Requirement already satisfied: pillow>=8 in c:\\users\\valen\\appdata\\local\\packages\\pythonsoftwarefoundation.python.3.12_qbz5n2kfra8p0\\localcache\\local-packages\\python312\\site-packages (from matplotlib) (10.1.0)\n",
      "Requirement already satisfied: pyparsing>=2.3.1 in c:\\users\\valen\\appdata\\local\\packages\\pythonsoftwarefoundation.python.3.12_qbz5n2kfra8p0\\localcache\\local-packages\\python312\\site-packages (from matplotlib) (3.1.1)\n",
      "Requirement already satisfied: python-dateutil>=2.7 in c:\\users\\valen\\appdata\\local\\packages\\pythonsoftwarefoundation.python.3.12_qbz5n2kfra8p0\\localcache\\local-packages\\python312\\site-packages (from matplotlib) (2.8.2)\n",
      "Requirement already satisfied: six>=1.5 in c:\\users\\valen\\appdata\\local\\packages\\pythonsoftwarefoundation.python.3.12_qbz5n2kfra8p0\\localcache\\local-packages\\python312\\site-packages (from python-dateutil>=2.7->matplotlib) (1.16.0)\n",
      "Note: you may need to restart the kernel to use updated packages.\n"
     ]
    },
    {
     "name": "stderr",
     "output_type": "stream",
     "text": [
      "\n",
      "[notice] A new release of pip is available: 23.2.1 -> 23.3.1\n",
      "[notice] To update, run: C:\\Users\\valen\\AppData\\Local\\Microsoft\\WindowsApps\\PythonSoftwareFoundation.Python.3.12_qbz5n2kfra8p0\\python.exe -m pip install --upgrade pip\n"
     ]
    }
   ],
   "source": [
    " pip install matplotlib\n"
   ]
  },
  {
   "cell_type": "code",
   "execution_count": 16,
   "id": "941e4380",
   "metadata": {},
   "outputs": [
    {
     "name": "stdout",
     "output_type": "stream",
     "text": [
      "Defaulting to user installation because normal site-packages is not writeableNote: you may need to restart the kernel to use updated packages.\n",
      "\n",
      "Collecting seaborn\n",
      "  Obtaining dependency information for seaborn from https://files.pythonhosted.org/packages/7b/e5/83fcd7e9db036c179e0352bfcd20f81d728197a16f883e7b90307a88e65e/seaborn-0.13.0-py3-none-any.whl.metadata\n",
      "  Downloading seaborn-0.13.0-py3-none-any.whl.metadata (5.3 kB)\n",
      "Requirement already satisfied: numpy!=1.24.0,>=1.20 in c:\\users\\valen\\appdata\\local\\packages\\pythonsoftwarefoundation.python.3.12_qbz5n2kfra8p0\\localcache\\local-packages\\python312\\site-packages (from seaborn) (1.26.1)\n",
      "Requirement already satisfied: pandas>=1.2 in c:\\users\\valen\\appdata\\local\\packages\\pythonsoftwarefoundation.python.3.12_qbz5n2kfra8p0\\localcache\\local-packages\\python312\\site-packages (from seaborn) (2.1.1)\n",
      "Requirement already satisfied: matplotlib!=3.6.1,>=3.3 in c:\\users\\valen\\appdata\\local\\packages\\pythonsoftwarefoundation.python.3.12_qbz5n2kfra8p0\\localcache\\local-packages\\python312\\site-packages (from seaborn) (3.8.1)\n",
      "Requirement already satisfied: contourpy>=1.0.1 in c:\\users\\valen\\appdata\\local\\packages\\pythonsoftwarefoundation.python.3.12_qbz5n2kfra8p0\\localcache\\local-packages\\python312\\site-packages (from matplotlib!=3.6.1,>=3.3->seaborn) (1.2.0)\n",
      "Requirement already satisfied: cycler>=0.10 in c:\\users\\valen\\appdata\\local\\packages\\pythonsoftwarefoundation.python.3.12_qbz5n2kfra8p0\\localcache\\local-packages\\python312\\site-packages (from matplotlib!=3.6.1,>=3.3->seaborn) (0.12.1)\n",
      "Requirement already satisfied: fonttools>=4.22.0 in c:\\users\\valen\\appdata\\local\\packages\\pythonsoftwarefoundation.python.3.12_qbz5n2kfra8p0\\localcache\\local-packages\\python312\\site-packages (from matplotlib!=3.6.1,>=3.3->seaborn) (4.44.0)\n",
      "Requirement already satisfied: kiwisolver>=1.3.1 in c:\\users\\valen\\appdata\\local\\packages\\pythonsoftwarefoundation.python.3.12_qbz5n2kfra8p0\\localcache\\local-packages\\python312\\site-packages (from matplotlib!=3.6.1,>=3.3->seaborn) (1.4.5)\n",
      "Requirement already satisfied: packaging>=20.0 in c:\\users\\valen\\appdata\\local\\packages\\pythonsoftwarefoundation.python.3.12_qbz5n2kfra8p0\\localcache\\local-packages\\python312\\site-packages (from matplotlib!=3.6.1,>=3.3->seaborn) (23.2)\n",
      "Requirement already satisfied: pillow>=8 in c:\\users\\valen\\appdata\\local\\packages\\pythonsoftwarefoundation.python.3.12_qbz5n2kfra8p0\\localcache\\local-packages\\python312\\site-packages (from matplotlib!=3.6.1,>=3.3->seaborn) (10.1.0)\n",
      "Requirement already satisfied: pyparsing>=2.3.1 in c:\\users\\valen\\appdata\\local\\packages\\pythonsoftwarefoundation.python.3.12_qbz5n2kfra8p0\\localcache\\local-packages\\python312\\site-packages (from matplotlib!=3.6.1,>=3.3->seaborn) (3.1.1)\n",
      "Requirement already satisfied: python-dateutil>=2.7 in c:\\users\\valen\\appdata\\local\\packages\\pythonsoftwarefoundation.python.3.12_qbz5n2kfra8p0\\localcache\\local-packages\\python312\\site-packages (from matplotlib!=3.6.1,>=3.3->seaborn) (2.8.2)\n",
      "Requirement already satisfied: pytz>=2020.1 in c:\\users\\valen\\appdata\\local\\packages\\pythonsoftwarefoundation.python.3.12_qbz5n2kfra8p0\\localcache\\local-packages\\python312\\site-packages (from pandas>=1.2->seaborn) (2023.3.post1)\n",
      "Requirement already satisfied: tzdata>=2022.1 in c:\\users\\valen\\appdata\\local\\packages\\pythonsoftwarefoundation.python.3.12_qbz5n2kfra8p0\\localcache\\local-packages\\python312\\site-packages (from pandas>=1.2->seaborn) (2023.3)\n",
      "Requirement already satisfied: six>=1.5 in c:\\users\\valen\\appdata\\local\\packages\\pythonsoftwarefoundation.python.3.12_qbz5n2kfra8p0\\localcache\\local-packages\\python312\\site-packages (from python-dateutil>=2.7->matplotlib!=3.6.1,>=3.3->seaborn) (1.16.0)\n",
      "Downloading seaborn-0.13.0-py3-none-any.whl (294 kB)\n",
      "   ---------------------------------------- 0.0/294.6 kB ? eta -:--:--\n",
      "   ---------------------------------------- 0.0/294.6 kB ? eta -:--:--\n",
      "   - -------------------------------------- 10.2/294.6 kB ? eta -:--:--\n",
      "   -------- ------------------------------ 61.4/294.6 kB 656.4 kB/s eta 0:00:01\n",
      "   ------------------------------ --------- 225.3/294.6 kB 1.7 MB/s eta 0:00:01\n",
      "   ---------------------------------------- 294.6/294.6 kB 1.8 MB/s eta 0:00:00\n",
      "Installing collected packages: seaborn\n",
      "Successfully installed seaborn-0.13.0\n"
     ]
    },
    {
     "name": "stderr",
     "output_type": "stream",
     "text": [
      "\n",
      "[notice] A new release of pip is available: 23.2.1 -> 23.3.1\n",
      "[notice] To update, run: C:\\Users\\valen\\AppData\\Local\\Microsoft\\WindowsApps\\PythonSoftwareFoundation.Python.3.12_qbz5n2kfra8p0\\python.exe -m pip install --upgrade pip\n"
     ]
    }
   ],
   "source": [
    " pip install seaborn"
   ]
  },
  {
   "cell_type": "code",
   "execution_count": 19,
   "id": "36b54373",
   "metadata": {},
   "outputs": [
    {
     "name": "stdout",
     "output_type": "stream",
     "text": [
      "Defaulting to user installation because normal site-packages is not writeable\n",
      "Collecting scikit-learn\n",
      "  Obtaining dependency information for scikit-learn from https://files.pythonhosted.org/packages/fe/6b/db949ed5ac367987b1f250f070f340b7715d22f0c9c965bdf07de6ca75a3/scikit_learn-1.3.2-cp312-cp312-win_amd64.whl.metadata\n",
      "  Downloading scikit_learn-1.3.2-cp312-cp312-win_amd64.whl.metadata (11 kB)\n",
      "Requirement already satisfied: numpy<2.0,>=1.17.3 in c:\\users\\valen\\appdata\\local\\packages\\pythonsoftwarefoundation.python.3.12_qbz5n2kfra8p0\\localcache\\local-packages\\python312\\site-packages (from scikit-learn) (1.26.1)\n",
      "Requirement already satisfied: scipy>=1.5.0 in c:\\users\\valen\\appdata\\local\\packages\\pythonsoftwarefoundation.python.3.12_qbz5n2kfra8p0\\localcache\\local-packages\\python312\\site-packages (from scikit-learn) (1.11.3)\n",
      "Collecting joblib>=1.1.1 (from scikit-learn)\n",
      "  Obtaining dependency information for joblib>=1.1.1 from https://files.pythonhosted.org/packages/10/40/d551139c85db202f1f384ba8bcf96aca2f329440a844f924c8a0040b6d02/joblib-1.3.2-py3-none-any.whl.metadata\n",
      "  Downloading joblib-1.3.2-py3-none-any.whl.metadata (5.4 kB)\n",
      "Collecting threadpoolctl>=2.0.0 (from scikit-learn)\n",
      "  Obtaining dependency information for threadpoolctl>=2.0.0 from https://files.pythonhosted.org/packages/81/12/fd4dea011af9d69e1cad05c75f3f7202cdcbeac9b712eea58ca779a72865/threadpoolctl-3.2.0-py3-none-any.whl.metadata\n",
      "  Downloading threadpoolctl-3.2.0-py3-none-any.whl.metadata (10.0 kB)\n",
      "Downloading scikit_learn-1.3.2-cp312-cp312-win_amd64.whl (9.1 MB)\n",
      "   ---------------------------------------- 0.0/9.1 MB ? eta -:--:--\n",
      "   ---------------------------------------- 0.0/9.1 MB 1.4 MB/s eta 0:00:07\n",
      "    --------------------------------------- 0.1/9.1 MB 2.4 MB/s eta 0:00:04\n",
      "   -- ------------------------------------- 0.6/9.1 MB 6.6 MB/s eta 0:00:02\n",
      "   ------ --------------------------------- 1.6/9.1 MB 11.0 MB/s eta 0:00:01\n",
      "   --------------- ------------------------ 3.5/9.1 MB 18.6 MB/s eta 0:00:01\n",
      "   --------------------- ------------------ 5.0/9.1 MB 22.7 MB/s eta 0:00:01\n",
      "   ------------------------------ --------- 6.9/9.1 MB 26.0 MB/s eta 0:00:01\n",
      "   ---------------------------------------  9.0/9.1 MB 28.8 MB/s eta 0:00:01\n",
      "   ---------------------------------------- 9.1/9.1 MB 25.4 MB/s eta 0:00:00\n",
      "Downloading joblib-1.3.2-py3-none-any.whl (302 kB)\n",
      "   ---------------------------------------- 0.0/302.2 kB ? eta -:--:--\n",
      "   ---------------------------------------- 302.2/302.2 kB ? eta 0:00:00\n",
      "Using cached threadpoolctl-3.2.0-py3-none-any.whl (15 kB)\n",
      "Installing collected packages: threadpoolctl, joblib, scikit-learn\n",
      "Successfully installed joblib-1.3.2 scikit-learn-1.3.2 threadpoolctl-3.2.0\n"
     ]
    },
    {
     "name": "stderr",
     "output_type": "stream",
     "text": [
      "\n",
      "[notice] A new release of pip is available: 23.2.1 -> 23.3.1\n",
      "[notice] To update, run: C:\\Users\\valen\\AppData\\Local\\Microsoft\\WindowsApps\\PythonSoftwareFoundation.Python.3.12_qbz5n2kfra8p0\\python.exe -m pip install --upgrade pip\n"
     ]
    }
   ],
   "source": [
    "!pip install scikit-learn\n"
   ]
  },
  {
   "cell_type": "code",
   "execution_count": 20,
   "id": "90c3cdf3",
   "metadata": {},
   "outputs": [],
   "source": [
    "from sodapy import Socrata\n",
    "import pandas as pd\n",
    "import matplotlib.pyplot as plt\n",
    "import seaborn as sns\n",
    "from sklearn.preprocessing import LabelEncoder\n",
    "from sklearn.model_selection import train_test_split\n",
    "from sklearn.ensemble import RandomForestRegressor\n",
    "from sklearn.linear_model import LogisticRegression\n",
    "from sklearn.neighbors import KNeighborsRegressor\n",
    "from xgboost import XGBRegressor\n",
    "from sklearn.metrics import mean_squared_error, r2_score\n",
    "\n",
    "import warnings\n",
    "warnings.filterwarnings('ignore')"
   ]
  },
  {
   "cell_type": "code",
   "execution_count": 21,
   "id": "5f4104e4",
   "metadata": {},
   "outputs": [
    {
     "name": "stderr",
     "output_type": "stream",
     "text": [
      "WARNING:root:Requests made without an app_token will be subject to strict throttling limits.\n"
     ]
    },
    {
     "data": {
      "text/html": [
       "<div>\n",
       "<style scoped>\n",
       "    .dataframe tbody tr th:only-of-type {\n",
       "        vertical-align: middle;\n",
       "    }\n",
       "\n",
       "    .dataframe tbody tr th {\n",
       "        vertical-align: top;\n",
       "    }\n",
       "\n",
       "    .dataframe thead th {\n",
       "        text-align: right;\n",
       "    }\n",
       "</style>\n",
       "<table border=\"1\" class=\"dataframe\">\n",
       "  <thead>\n",
       "    <tr style=\"text-align: right;\">\n",
       "      <th></th>\n",
       "      <th>idpeaje</th>\n",
       "      <th>peaje</th>\n",
       "      <th>categoriatarifa</th>\n",
       "      <th>desde</th>\n",
       "      <th>hasta</th>\n",
       "      <th>valortarifa</th>\n",
       "      <th>cantidadtrafico</th>\n",
       "      <th>cantidadevasores</th>\n",
       "      <th>cantidadexentos787</th>\n",
       "    </tr>\n",
       "  </thead>\n",
       "  <tbody>\n",
       "    <tr>\n",
       "      <th>0</th>\n",
       "      <td>1</td>\n",
       "      <td>ALVARADO</td>\n",
       "      <td>I</td>\n",
       "      <td>2015-08-21T00:00:00.000</td>\n",
       "      <td>2015-08-31T00:00:00.000</td>\n",
       "      <td>7000</td>\n",
       "      <td>27730</td>\n",
       "      <td>0</td>\n",
       "      <td>660</td>\n",
       "    </tr>\n",
       "    <tr>\n",
       "      <th>1</th>\n",
       "      <td>1</td>\n",
       "      <td>ALVARADO</td>\n",
       "      <td>II</td>\n",
       "      <td>2015-08-21T00:00:00.000</td>\n",
       "      <td>2015-08-31T00:00:00.000</td>\n",
       "      <td>7600</td>\n",
       "      <td>9930</td>\n",
       "      <td>0</td>\n",
       "      <td>70</td>\n",
       "    </tr>\n",
       "    <tr>\n",
       "      <th>2</th>\n",
       "      <td>1</td>\n",
       "      <td>ALVARADO</td>\n",
       "      <td>III</td>\n",
       "      <td>2015-08-21T00:00:00.000</td>\n",
       "      <td>2015-08-31T00:00:00.000</td>\n",
       "      <td>16100</td>\n",
       "      <td>1277</td>\n",
       "      <td>0</td>\n",
       "      <td>0</td>\n",
       "    </tr>\n",
       "    <tr>\n",
       "      <th>3</th>\n",
       "      <td>1</td>\n",
       "      <td>ALVARADO</td>\n",
       "      <td>IV</td>\n",
       "      <td>2015-08-21T00:00:00.000</td>\n",
       "      <td>2015-08-31T00:00:00.000</td>\n",
       "      <td>20400</td>\n",
       "      <td>2074</td>\n",
       "      <td>0</td>\n",
       "      <td>0</td>\n",
       "    </tr>\n",
       "    <tr>\n",
       "      <th>4</th>\n",
       "      <td>1</td>\n",
       "      <td>ALVARADO</td>\n",
       "      <td>V</td>\n",
       "      <td>2015-08-21T00:00:00.000</td>\n",
       "      <td>2015-08-31T00:00:00.000</td>\n",
       "      <td>22900</td>\n",
       "      <td>4167</td>\n",
       "      <td>0</td>\n",
       "      <td>0</td>\n",
       "    </tr>\n",
       "  </tbody>\n",
       "</table>\n",
       "</div>"
      ],
      "text/plain": [
       "  idpeaje     peaje categoriatarifa                    desde  \\\n",
       "0       1  ALVARADO               I  2015-08-21T00:00:00.000   \n",
       "1       1  ALVARADO              II  2015-08-21T00:00:00.000   \n",
       "2       1  ALVARADO             III  2015-08-21T00:00:00.000   \n",
       "3       1  ALVARADO              IV  2015-08-21T00:00:00.000   \n",
       "4       1  ALVARADO               V  2015-08-21T00:00:00.000   \n",
       "\n",
       "                     hasta valortarifa cantidadtrafico cantidadevasores  \\\n",
       "0  2015-08-31T00:00:00.000        7000           27730                0   \n",
       "1  2015-08-31T00:00:00.000        7600            9930                0   \n",
       "2  2015-08-31T00:00:00.000       16100            1277                0   \n",
       "3  2015-08-31T00:00:00.000       20400            2074                0   \n",
       "4  2015-08-31T00:00:00.000       22900            4167                0   \n",
       "\n",
       "  cantidadexentos787  \n",
       "0                660  \n",
       "1                 70  \n",
       "2                  0  \n",
       "3                  0  \n",
       "4                  0  "
      ]
     },
     "execution_count": 21,
     "metadata": {},
     "output_type": "execute_result"
    }
   ],
   "source": [
    "client = Socrata('www.datos.gov.co', None)\n",
    "tempTr = client.get(\"8yi9-t44c\", limit=200000)\n",
    "datos = pd.DataFrame.from_records(tempTr) \n",
    "datos.head()"
   ]
  },
  {
   "cell_type": "markdown",
   "id": "0ee5ad96",
   "metadata": {},
   "source": [
    "# LIMPIEZA Y ALISTAMIENTO"
   ]
  },
  {
   "cell_type": "code",
   "execution_count": 22,
   "id": "0066183a",
   "metadata": {},
   "outputs": [
    {
     "data": {
      "text/html": [
       "<div>\n",
       "<style scoped>\n",
       "    .dataframe tbody tr th:only-of-type {\n",
       "        vertical-align: middle;\n",
       "    }\n",
       "\n",
       "    .dataframe tbody tr th {\n",
       "        vertical-align: top;\n",
       "    }\n",
       "\n",
       "    .dataframe thead th {\n",
       "        text-align: right;\n",
       "    }\n",
       "</style>\n",
       "<table border=\"1\" class=\"dataframe\">\n",
       "  <thead>\n",
       "    <tr style=\"text-align: right;\">\n",
       "      <th></th>\n",
       "      <th>idpeaje</th>\n",
       "      <th>peaje</th>\n",
       "      <th>categoriatarifa</th>\n",
       "      <th>desde</th>\n",
       "      <th>hasta</th>\n",
       "      <th>valortarifa</th>\n",
       "      <th>cantidadtrafico</th>\n",
       "      <th>cantidadevasores</th>\n",
       "      <th>cantidadexentos787</th>\n",
       "      <th>año</th>\n",
       "      <th>mes</th>\n",
       "      <th>añomes</th>\n",
       "      <th>recaudo</th>\n",
       "    </tr>\n",
       "  </thead>\n",
       "  <tbody>\n",
       "    <tr>\n",
       "      <th>0</th>\n",
       "      <td>1</td>\n",
       "      <td>ALVARADO</td>\n",
       "      <td>I</td>\n",
       "      <td>2015-08-21</td>\n",
       "      <td>2015-08-31</td>\n",
       "      <td>7000</td>\n",
       "      <td>27730</td>\n",
       "      <td>0.0</td>\n",
       "      <td>660.0</td>\n",
       "      <td>2015</td>\n",
       "      <td>8</td>\n",
       "      <td>2015-08</td>\n",
       "      <td>194110000</td>\n",
       "    </tr>\n",
       "    <tr>\n",
       "      <th>1</th>\n",
       "      <td>1</td>\n",
       "      <td>ALVARADO</td>\n",
       "      <td>II</td>\n",
       "      <td>2015-08-21</td>\n",
       "      <td>2015-08-31</td>\n",
       "      <td>7600</td>\n",
       "      <td>9930</td>\n",
       "      <td>0.0</td>\n",
       "      <td>70.0</td>\n",
       "      <td>2015</td>\n",
       "      <td>8</td>\n",
       "      <td>2015-08</td>\n",
       "      <td>75468000</td>\n",
       "    </tr>\n",
       "    <tr>\n",
       "      <th>2</th>\n",
       "      <td>1</td>\n",
       "      <td>ALVARADO</td>\n",
       "      <td>III</td>\n",
       "      <td>2015-08-21</td>\n",
       "      <td>2015-08-31</td>\n",
       "      <td>16100</td>\n",
       "      <td>1277</td>\n",
       "      <td>0.0</td>\n",
       "      <td>0.0</td>\n",
       "      <td>2015</td>\n",
       "      <td>8</td>\n",
       "      <td>2015-08</td>\n",
       "      <td>20559700</td>\n",
       "    </tr>\n",
       "    <tr>\n",
       "      <th>3</th>\n",
       "      <td>1</td>\n",
       "      <td>ALVARADO</td>\n",
       "      <td>IV</td>\n",
       "      <td>2015-08-21</td>\n",
       "      <td>2015-08-31</td>\n",
       "      <td>20400</td>\n",
       "      <td>2074</td>\n",
       "      <td>0.0</td>\n",
       "      <td>0.0</td>\n",
       "      <td>2015</td>\n",
       "      <td>8</td>\n",
       "      <td>2015-08</td>\n",
       "      <td>42309600</td>\n",
       "    </tr>\n",
       "    <tr>\n",
       "      <th>4</th>\n",
       "      <td>1</td>\n",
       "      <td>ALVARADO</td>\n",
       "      <td>V</td>\n",
       "      <td>2015-08-21</td>\n",
       "      <td>2015-08-31</td>\n",
       "      <td>22900</td>\n",
       "      <td>4167</td>\n",
       "      <td>0.0</td>\n",
       "      <td>0.0</td>\n",
       "      <td>2015</td>\n",
       "      <td>8</td>\n",
       "      <td>2015-08</td>\n",
       "      <td>95424300</td>\n",
       "    </tr>\n",
       "  </tbody>\n",
       "</table>\n",
       "</div>"
      ],
      "text/plain": [
       "  idpeaje     peaje categoriatarifa      desde      hasta  valortarifa  \\\n",
       "0       1  ALVARADO               I 2015-08-21 2015-08-31         7000   \n",
       "1       1  ALVARADO              II 2015-08-21 2015-08-31         7600   \n",
       "2       1  ALVARADO             III 2015-08-21 2015-08-31        16100   \n",
       "3       1  ALVARADO              IV 2015-08-21 2015-08-31        20400   \n",
       "4       1  ALVARADO               V 2015-08-21 2015-08-31        22900   \n",
       "\n",
       "   cantidadtrafico  cantidadevasores  cantidadexentos787   año  mes   añomes  \\\n",
       "0            27730               0.0               660.0  2015    8  2015-08   \n",
       "1             9930               0.0                70.0  2015    8  2015-08   \n",
       "2             1277               0.0                 0.0  2015    8  2015-08   \n",
       "3             2074               0.0                 0.0  2015    8  2015-08   \n",
       "4             4167               0.0                 0.0  2015    8  2015-08   \n",
       "\n",
       "     recaudo  \n",
       "0  194110000  \n",
       "1   75468000  \n",
       "2   20559700  \n",
       "3   42309600  \n",
       "4   95424300  "
      ]
     },
     "execution_count": 22,
     "metadata": {},
     "output_type": "execute_result"
    }
   ],
   "source": [
    "datos.desde = pd.to_datetime(datos.desde)\n",
    "datos.hasta = pd.to_datetime(datos.hasta)\n",
    "datos.valortarifa = datos.valortarifa.astype('int')\n",
    "datos.cantidadtrafico = datos.cantidadtrafico.astype('int')\n",
    "datos.cantidadevasores = datos.cantidadevasores.apply(pd.to_numeric, errors='coerce')\n",
    "datos.cantidadexentos787 = datos.cantidadexentos787.apply(pd.to_numeric, errors='coerce')\n",
    "datos['año'] = pd.DatetimeIndex(datos['hasta']).year\n",
    "datos['mes'] = pd.DatetimeIndex(datos['hasta']).month\n",
    "datos['añomes'] = pd.to_datetime(datos.hasta).dt.to_period('M')\n",
    "datos['recaudo'] = datos.valortarifa * datos.cantidadtrafico\n",
    "\n",
    "datos.head()"
   ]
  },
  {
   "cell_type": "code",
   "execution_count": 23,
   "id": "8fa9dad0",
   "metadata": {},
   "outputs": [],
   "source": [
    "cat = LabelEncoder().fit(datos.categoriatarifa)\n",
    "datos.categoriatarifa = cat.fit_transform(datos.categoriatarifa)"
   ]
  },
  {
   "cell_type": "code",
   "execution_count": 24,
   "id": "7d442df2",
   "metadata": {},
   "outputs": [],
   "source": [
    "\n",
    "\n",
    "# Supongamos que datos es tu DataFrame original\n",
    "# Codificar columnas categóricas si es necesario\n",
    "le = LabelEncoder()\n",
    "datos['idpeaje'] = le.fit_transform(datos['idpeaje'])\n",
    "\n",
    "\n"
   ]
  },
  {
   "cell_type": "code",
   "execution_count": 25,
   "id": "62db9275",
   "metadata": {},
   "outputs": [],
   "source": [
    "datos.cantidadevasores.fillna(0,inplace=True)\n",
    "datos.cantidadexentos787.fillna(0,inplace=True)"
   ]
  },
  {
   "cell_type": "code",
   "execution_count": 26,
   "id": "bbf8c929",
   "metadata": {},
   "outputs": [
    {
     "data": {
      "text/plain": [
       "idpeaje               0\n",
       "peaje                 0\n",
       "categoriatarifa       0\n",
       "desde                 0\n",
       "hasta                 0\n",
       "valortarifa           0\n",
       "cantidadtrafico       0\n",
       "cantidadevasores      0\n",
       "cantidadexentos787    0\n",
       "año                   0\n",
       "mes                   0\n",
       "añomes                0\n",
       "recaudo               0\n",
       "dtype: int64"
      ]
     },
     "execution_count": 26,
     "metadata": {},
     "output_type": "execute_result"
    }
   ],
   "source": [
    "pd.isna(datos).sum()"
   ]
  },
  {
   "cell_type": "code",
   "execution_count": null,
   "id": "405dacce",
   "metadata": {},
   "outputs": [],
   "source": [
    "datosT = datos.groupby(by=['idpeaje', 'peaje', 'categoriatarifa', 'valortarifa', 'año', 'mes', 'añomes'], as_index=False).sum()"
   ]
  },
  {
   "cell_type": "code",
   "execution_count": 10,
   "id": "ca5855da",
   "metadata": {},
   "outputs": [],
   "source": [
    "columnasX = ['idpeaje','categoriatarifa','año','mes','valortarifa','cantidadevasores','cantidadexentos787']\n",
    "columnasY = ['cantidadtrafico']"
   ]
  },
  {
   "cell_type": "code",
   "execution_count": 11,
   "id": "c8a4f246",
   "metadata": {},
   "outputs": [],
   "source": [
    "Xtrain, Xtest, ytrain, ytest = train_test_split(datos[columnasX], datos[columnasY], test_size=0.30, random_state=8)"
   ]
  },
  {
   "cell_type": "markdown",
   "id": "613a67f4",
   "metadata": {},
   "source": [
    "# REVISIÓN OPCIONES DE MODELOS"
   ]
  },
  {
   "cell_type": "markdown",
   "id": "bef4aa6b",
   "metadata": {},
   "source": [
    "## Random Forest"
   ]
  },
  {
   "cell_type": "code",
   "execution_count": null,
   "id": "28277e89",
   "metadata": {},
   "outputs": [],
   "source": [
    "\n",
    "np.random.seed(123)\n",
    "\n",
    "# Creación de lista de valores para iterar sobre diferentes valores de max_depth\n",
    "max_depth_range = range(1, 51)\n",
    "\n",
    "# Definición de lista para almacenar el rmse promedio para cada valor de max_depth\n",
    "rmse_scores = []\n",
    "\n",
    "# Uso de un 5-fold cross-validation para cada valor de max_depth\n",
    "for max_depth in max_depth_range:\n",
    "    reg = RandomForestRegressor(max_depth = max_depth, n_jobs=-1)\n",
    "    scores = cross_val_score(reg, Xtrain, ytrain, cv = 5, scoring = 'neg_mean_squared_error', n_jobs=-1)\n",
    "    rmse_scores.append(np.mean(np.sqrt(np.abs(scores))))\n",
    "\n",
    "# Gráfica del desempeño del modelo vs la cantidad de max_depth\n",
    "plt.plot(max_depth_range, rmse_scores)\n",
    "plt.xlabel('max_depth')\n",
    "plt.ylabel('RMSE')\n",
    "\n",
    "print(f'El parámetro max_depth que mejor calibra el modelo es {rmse_scores.index(min(rmse_scores)) + 1}')"
   ]
  },
  {
   "cell_type": "code",
   "execution_count": null,
   "id": "2b63fd66",
   "metadata": {},
   "outputs": [],
   "source": [
    "np.random.seed(123)\n",
    "\n",
    "# Creación de lista de valores para iterar sobre diferentes valores de max_features\n",
    "feature_range = range(1, Xtrain.shape[1] + 1)\n",
    "\n",
    "# Definición de lista para almacenar el rmse promedio para cada valor de max_features\n",
    "rmse_scores = []\n",
    "\n",
    "# Uso de un 5-fold cross-validation para cada valor de max_features\n",
    "for feature in feature_range:\n",
    "    reg = RandomForestRegressor(max_depth = 8, max_features = feature, n_jobs=-1)\n",
    "    scores = cross_val_score(reg, Xtrain, ytrain, cv = 5, scoring = 'neg_mean_squared_error', n_jobs=-1)\n",
    "    rmse_scores.append(np.mean(np.sqrt(np.abs(scores))))\n",
    "\n",
    "# Gráfica del desempeño del modelo vs la cantidad de max_features\n",
    "plt.plot(feature_range, rmse_scores)\n",
    "plt.xlabel('max_features')\n",
    "plt.ylabel('RMSE')\n",
    "\n",
    "print(f'El parámetro max_features que mejor calibra el modelo es {rmse_scores.index(min(rmse_scores)) + 1}')"
   ]
  },
  {
   "cell_type": "code",
   "execution_count": null,
   "id": "cdeb0587",
   "metadata": {},
   "outputs": [],
   "source": [
    "np.random.seed(123)\n",
    "\n",
    "# Creación de lista de valores para iterar sobre diferentes valores de n_estimators\n",
    "estimator_range = range(10, 310, 10)\n",
    "\n",
    "# Definición de lista para almacenar el rmse promedio para cada valor de n_estimators\n",
    "rmse_scores = []\n",
    "\n",
    "# Uso de un 5-fold cross-validation para cada valor de n_estimators\n",
    "for estimator in estimator_range:\n",
    "    reg = RandomForestRegressor(max_depth = 8, max_features = 1, n_estimators = estimator, n_jobs=-1)\n",
    "    scores = cross_val_score(reg, Xtrain, ytrain, cv = 5, scoring = 'neg_mean_squared_error', n_jobs=-1)\n",
    "    rmse_scores.append(np.mean(np.sqrt(np.abs(scores))))\n",
    "\n",
    "# Gráfica del desempeño del modelo vs la cantidad de n_estimators\n",
    "plt.plot(estimator_range, rmse_scores)\n",
    "plt.xlabel('n_estimators')\n",
    "plt.ylabel('RMSE')\n",
    "\n",
    "print(f'El parámetro n_estimators que mejor calibra el modelo es {(rmse_scores.index(min(rmse_scores)) + 1) * 10}')"
   ]
  },
  {
   "cell_type": "code",
   "execution_count": null,
   "id": "4356defd",
   "metadata": {},
   "outputs": [],
   "source": [
    "np.random.seed(123)\n",
    "\n",
    "# Implementación y ajuste del modelo de regresión de Random Forest calibrado con los datos de entrenamiento\n",
    "rfcreg = RandomForestRegressor(max_depth = 8, max_features = 5, n_estimators = 90).fit(Xtrain, ytrain)\n",
    "\n",
    "# Predicción con los datos de prueba\n",
    "ypred = rfcreg.predict(Xtest)\n",
    "\n",
    "RMSE_RFC = round(mean_squared_error(ypred, ytest, squared = False))\n",
    "MAE_RFC = round(mae(ypred, ytest))\n",
    "r2 = r2_score(ytest, ypred)\n",
    "# Cálculo del desempeño del modelo utilizando el RMSE y el MAE\n",
    "print(f'El RMSE del modelo es de {RMSE_RFC}')\n",
    "print(f'El MAE del modelo es de {MAE_RFC}')\n",
    "print(f'El R^2 del modelo es de {r2}')"
   ]
  },
  {
   "cell_type": "markdown",
   "id": "29fa12d3",
   "metadata": {},
   "source": [
    "## Regresión logística"
   ]
  },
  {
   "cell_type": "code",
   "execution_count": null,
   "id": "8cd4b9a7",
   "metadata": {},
   "outputs": [],
   "source": [
    "# Inicializar el modelo de regresión logística con hiperparámetros ajustados\n",
    "modelo_logistico = LogisticRegression(C=0.1, solver='liblinear')  \n",
    "\n",
    "# Entrenar el modelo\n",
    "modelo_logistico.fit(Xtrain, ytrain)\n",
    "\n",
    "# Hacer predicciones en el conjunto de prueba\n",
    "predicciones = modelo_logistico.predict(Xtest)\n",
    "predicciones\n",
    "\n",
    "# Calcular el Error Cuadrático Medio (RMSE)\n",
    "rmse = mean_squared_error(ytest, predicciones, squared=False)\n",
    "print(f'RMSE: {rmse}')\n",
    "\n",
    "# Calcular el coeficiente de determinación (R^2)\n",
    "r2 = r2_score(ytest, predicciones)\n",
    "print(f'R^2: {r2}')"
   ]
  },
  {
   "cell_type": "code",
   "execution_count": null,
   "id": "e88b8143",
   "metadata": {},
   "outputs": [],
   "source": [
    "from sklearn.linear_model import LogisticRegression\n",
    "\n",
    "# Inicializar el modelo de regresión logística con hiperparámetros ajustados y verbose\n",
    "modelo_logistico = LogisticRegression(C=0.1, solver='liblinear', max_iter=100, verbose=10) \n",
    "\n",
    "# Entrenar el modelo\n",
    "modelo_logistico.fit(Xtrain, ytrain)\n",
    "\n",
    "# Hacer predicciones en el conjunto de prueba\n",
    "predicciones = modelo_logistico.predict(Xtest)\n",
    "predicciones\n",
    "# Calcular el Error Cuadrático Medio (RMSE)\n",
    "rmse = mean_squared_error(ytest, predicciones, squared=False)\n",
    "print(f'RMSE: {rmse}')\n",
    "\n",
    "# Calcular el coeficiente de determinación (R^2)\n",
    "r2 = r2_score(ytest, predicciones)\n",
    "print(f'R^2: {r2}')\n"
   ]
  },
  {
   "cell_type": "code",
   "execution_count": null,
   "id": "dac6c92a",
   "metadata": {},
   "outputs": [],
   "source": [
    "## K vecinos"
   ]
  },
  {
   "cell_type": "code",
   "execution_count": null,
   "id": "13e4b009",
   "metadata": {},
   "outputs": [],
   "source": [
    "# parámetros\n",
    "parametros_grid = {\n",
    "    'n_neighbors': [3, 5, 7],  # Puedes ajustar estos valores según tus necesidades\n",
    "    'weights': ['uniform', 'distance'],\n",
    "    'algorithm': ['auto', 'ball_tree', 'kd_tree', 'brute']\n",
    "}\n",
    "# Inicializa el modelo de KNeighborsRegressor\n",
    "regKN = KNeighborsRegressor()\n",
    "\n",
    "# Se utiliza GridSearchCV para encontrar los mejores parámetros\n",
    "grid_regKN = GridSearchCV(regKN, parametros_grid, cv=5, scoring='neg_mean_squared_error', n_jobs=-1)\n",
    "grid_regKN.fit(Xtrain, ytrain)\n",
    "\n",
    "# Obtiene el mejor modelo con los mejores parámetros\n",
    "mejor_regKN = grid_regKN.best_estimator_\n",
    "\n",
    "# Predicciones con el modelo ajustado\n",
    "predRegKN = mejor_regKN.predict(Xtest)\n",
    "\n",
    "# Muestra los mejores parámetros encontrados\n",
    "print(f\"Mejores parámetros: {grid_regKN.best_params_}\")\n",
    "\n",
    "# Métricas \n",
    "RMSE_regKN = round(mean_squared_error(predRegKN, ytest, squared=False))\n",
    "r2_regKN = r2_score(ytest, predRegKN)\n",
    "print(f'El RMSE del modelo es de {RMSE_regKN}')\n",
    "print(f'El R^2 del modelo es de {r2_regKN}')"
   ]
  },
  {
   "cell_type": "code",
   "execution_count": null,
   "id": "72315c1b",
   "metadata": {},
   "outputs": [],
   "source": [
    "regKN = KNeighborsRegressor()\n",
    "regKN.fit(Xtrain,ytrain)\n",
    "predRegKN = regKN.predict(Xtest)\n",
    "predRegKN"
   ]
  },
  {
   "cell_type": "code",
   "execution_count": null,
   "id": "a2a3b265",
   "metadata": {},
   "outputs": [],
   "source": []
  },
  {
   "cell_type": "markdown",
   "id": "09e4eabc",
   "metadata": {},
   "source": [
    "## XGBoost"
   ]
  },
  {
   "cell_type": "code",
   "execution_count": null,
   "id": "78078a4a",
   "metadata": {},
   "outputs": [],
   "source": [
    "regXGB = XGBRegressor()\n",
    "regXGB.fit(Xtrain,ytrain)\n",
    "predRegXGB = regXGB.predict(Xtest)\n",
    "predRegXGB"
   ]
  },
  {
   "cell_type": "code",
   "execution_count": 7,
   "id": "07d8f3dc",
   "metadata": {},
   "outputs": [
    {
     "name": "stdout",
     "output_type": "stream",
     "text": [
      "[main 693cab3] Avance Modelos\n",
      " 2 files changed, 188 insertions(+), 48 deletions(-)\n"
     ]
    }
   ],
   "source": [
    "!git commit -m \"Avance Modelos\""
   ]
  },
  {
   "cell_type": "code",
   "execution_count": 8,
   "id": "15d462e9",
   "metadata": {},
   "outputs": [
    {
     "name": "stderr",
     "output_type": "stream",
     "text": [
      "To https://github.com/grupovajo/ANI_PEAJES.git\n",
      "   7f78ad3..693cab3  main -> main\n"
     ]
    }
   ],
   "source": [
    "!git push"
   ]
  },
  {
   "cell_type": "markdown",
   "id": "6ebf7519",
   "metadata": {},
   "source": [
    "# MODELOS ESCOGIDOS"
   ]
  },
  {
   "cell_type": "code",
   "execution_count": null,
   "id": "cac508ef",
   "metadata": {},
   "outputs": [],
   "source": []
  },
  {
   "cell_type": "code",
   "execution_count": null,
   "id": "6b07a365",
   "metadata": {},
   "outputs": [],
   "source": []
  },
  {
   "cell_type": "code",
   "execution_count": null,
   "id": "19e9b431",
   "metadata": {},
   "outputs": [],
   "source": []
  },
  {
   "cell_type": "markdown",
   "id": "9eb56a0b",
   "metadata": {},
   "source": []
  }
 ],
 "metadata": {
  "kernelspec": {
   "display_name": "Python 3 (ipykernel)",
   "language": "python",
   "name": "python3"
  },
  "language_info": {
   "codemirror_mode": {
    "name": "ipython",
    "version": 3
   },
   "file_extension": ".py",
   "mimetype": "text/x-python",
   "name": "python",
   "nbconvert_exporter": "python",
   "pygments_lexer": "ipython3",
   "version": "3.12.0"
  }
 },
 "nbformat": 4,
 "nbformat_minor": 5
}
