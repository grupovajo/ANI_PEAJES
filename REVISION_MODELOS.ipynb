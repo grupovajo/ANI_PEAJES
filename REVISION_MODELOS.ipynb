{
 "cells": [
  {
   "cell_type": "markdown",
   "id": "30637eb5",
   "metadata": {},
   "source": [
    "# CARGUE DE LOS DATOS Y TRANSFORMACIONES"
   ]
  },
  {
   "cell_type": "code",
   "execution_count": null,
   "id": "dd6f63d6",
   "metadata": {},
   "outputs": [],
   "source": [
    "#pip install sodapy"
   ]
  },
  {
   "cell_type": "code",
   "execution_count": null,
   "id": "8aa50332",
   "metadata": {},
   "outputs": [],
   "source": [
    "#pip install xgboost"
   ]
  },
  {
   "cell_type": "code",
   "execution_count": null,
   "id": "ccdc7750",
   "metadata": {},
   "outputs": [],
   "source": [
    "#pip install matplotlib"
   ]
  },
  {
   "cell_type": "code",
   "execution_count": null,
   "id": "941e4380",
   "metadata": {},
   "outputs": [],
   "source": [
    "#pip install seaborn"
   ]
  },
  {
   "cell_type": "code",
   "execution_count": null,
   "id": "36b54373",
   "metadata": {},
   "outputs": [],
   "source": [
    "#!pip install scikit-learn\n"
   ]
  },
  {
   "cell_type": "code",
   "execution_count": 32,
   "id": "90c3cdf3",
   "metadata": {},
   "outputs": [],
   "source": [
    "from sodapy import Socrata\n",
    "import pandas as pd\n",
    "import numpy as np\n",
    "import matplotlib.pyplot as plt\n",
    "import seaborn as sns\n",
    "from sklearn.preprocessing import LabelEncoder\n",
    "from sklearn.model_selection import train_test_split\n",
    "from sklearn.ensemble import RandomForestRegressor\n",
    "from sklearn.linear_model import LogisticRegression\n",
    "from sklearn.neighbors import KNeighborsRegressor\n",
    "from sklearn.model_selection import cross_val_score, GridSearchCV\n",
    "from xgboost import XGBRegressor\n",
    "from sklearn.metrics import mean_squared_error as mse, r2_score as r2, mean_absolute_error as mae\n",
    "\n",
    "import warnings\n",
    "warnings.filterwarnings('ignore')"
   ]
  },
  {
   "cell_type": "code",
   "execution_count": 2,
   "id": "5f4104e4",
   "metadata": {},
   "outputs": [
    {
     "name": "stderr",
     "output_type": "stream",
     "text": [
      "WARNING:root:Requests made without an app_token will be subject to strict throttling limits.\n"
     ]
    },
    {
     "data": {
      "text/html": [
       "<div>\n",
       "<style scoped>\n",
       "    .dataframe tbody tr th:only-of-type {\n",
       "        vertical-align: middle;\n",
       "    }\n",
       "\n",
       "    .dataframe tbody tr th {\n",
       "        vertical-align: top;\n",
       "    }\n",
       "\n",
       "    .dataframe thead th {\n",
       "        text-align: right;\n",
       "    }\n",
       "</style>\n",
       "<table border=\"1\" class=\"dataframe\">\n",
       "  <thead>\n",
       "    <tr style=\"text-align: right;\">\n",
       "      <th></th>\n",
       "      <th>idpeaje</th>\n",
       "      <th>peaje</th>\n",
       "      <th>categoriatarifa</th>\n",
       "      <th>desde</th>\n",
       "      <th>hasta</th>\n",
       "      <th>valortarifa</th>\n",
       "      <th>cantidadtrafico</th>\n",
       "      <th>cantidadevasores</th>\n",
       "      <th>cantidadexentos787</th>\n",
       "    </tr>\n",
       "  </thead>\n",
       "  <tbody>\n",
       "    <tr>\n",
       "      <th>0</th>\n",
       "      <td>1</td>\n",
       "      <td>ALVARADO</td>\n",
       "      <td>I</td>\n",
       "      <td>2015-08-21T00:00:00.000</td>\n",
       "      <td>2015-08-31T00:00:00.000</td>\n",
       "      <td>7000</td>\n",
       "      <td>27730</td>\n",
       "      <td>0</td>\n",
       "      <td>660</td>\n",
       "    </tr>\n",
       "    <tr>\n",
       "      <th>1</th>\n",
       "      <td>1</td>\n",
       "      <td>ALVARADO</td>\n",
       "      <td>II</td>\n",
       "      <td>2015-08-21T00:00:00.000</td>\n",
       "      <td>2015-08-31T00:00:00.000</td>\n",
       "      <td>7600</td>\n",
       "      <td>9930</td>\n",
       "      <td>0</td>\n",
       "      <td>70</td>\n",
       "    </tr>\n",
       "    <tr>\n",
       "      <th>2</th>\n",
       "      <td>1</td>\n",
       "      <td>ALVARADO</td>\n",
       "      <td>III</td>\n",
       "      <td>2015-08-21T00:00:00.000</td>\n",
       "      <td>2015-08-31T00:00:00.000</td>\n",
       "      <td>16100</td>\n",
       "      <td>1277</td>\n",
       "      <td>0</td>\n",
       "      <td>0</td>\n",
       "    </tr>\n",
       "    <tr>\n",
       "      <th>3</th>\n",
       "      <td>1</td>\n",
       "      <td>ALVARADO</td>\n",
       "      <td>IV</td>\n",
       "      <td>2015-08-21T00:00:00.000</td>\n",
       "      <td>2015-08-31T00:00:00.000</td>\n",
       "      <td>20400</td>\n",
       "      <td>2074</td>\n",
       "      <td>0</td>\n",
       "      <td>0</td>\n",
       "    </tr>\n",
       "    <tr>\n",
       "      <th>4</th>\n",
       "      <td>1</td>\n",
       "      <td>ALVARADO</td>\n",
       "      <td>V</td>\n",
       "      <td>2015-08-21T00:00:00.000</td>\n",
       "      <td>2015-08-31T00:00:00.000</td>\n",
       "      <td>22900</td>\n",
       "      <td>4167</td>\n",
       "      <td>0</td>\n",
       "      <td>0</td>\n",
       "    </tr>\n",
       "  </tbody>\n",
       "</table>\n",
       "</div>"
      ],
      "text/plain": [
       "  idpeaje     peaje categoriatarifa                    desde  \\\n",
       "0       1  ALVARADO               I  2015-08-21T00:00:00.000   \n",
       "1       1  ALVARADO              II  2015-08-21T00:00:00.000   \n",
       "2       1  ALVARADO             III  2015-08-21T00:00:00.000   \n",
       "3       1  ALVARADO              IV  2015-08-21T00:00:00.000   \n",
       "4       1  ALVARADO               V  2015-08-21T00:00:00.000   \n",
       "\n",
       "                     hasta valortarifa cantidadtrafico cantidadevasores  \\\n",
       "0  2015-08-31T00:00:00.000        7000           27730                0   \n",
       "1  2015-08-31T00:00:00.000        7600            9930                0   \n",
       "2  2015-08-31T00:00:00.000       16100            1277                0   \n",
       "3  2015-08-31T00:00:00.000       20400            2074                0   \n",
       "4  2015-08-31T00:00:00.000       22900            4167                0   \n",
       "\n",
       "  cantidadexentos787  \n",
       "0                660  \n",
       "1                 70  \n",
       "2                  0  \n",
       "3                  0  \n",
       "4                  0  "
      ]
     },
     "execution_count": 2,
     "metadata": {},
     "output_type": "execute_result"
    }
   ],
   "source": [
    "client = Socrata('www.datos.gov.co', None)\n",
    "tempTr = client.get(\"8yi9-t44c\", limit=200000)\n",
    "datos = pd.DataFrame.from_records(tempTr) \n",
    "datos.head()"
   ]
  },
  {
   "cell_type": "markdown",
   "id": "0ee5ad96",
   "metadata": {},
   "source": [
    "# LIMPIEZA Y ALISTAMIENTO"
   ]
  },
  {
   "cell_type": "code",
   "execution_count": 20,
   "id": "0066183a",
   "metadata": {},
   "outputs": [
    {
     "data": {
      "text/html": [
       "<div>\n",
       "<style scoped>\n",
       "    .dataframe tbody tr th:only-of-type {\n",
       "        vertical-align: middle;\n",
       "    }\n",
       "\n",
       "    .dataframe tbody tr th {\n",
       "        vertical-align: top;\n",
       "    }\n",
       "\n",
       "    .dataframe thead th {\n",
       "        text-align: right;\n",
       "    }\n",
       "</style>\n",
       "<table border=\"1\" class=\"dataframe\">\n",
       "  <thead>\n",
       "    <tr style=\"text-align: right;\">\n",
       "      <th></th>\n",
       "      <th>idpeaje</th>\n",
       "      <th>peaje</th>\n",
       "      <th>categoriatarifa</th>\n",
       "      <th>desde</th>\n",
       "      <th>hasta</th>\n",
       "      <th>valortarifa</th>\n",
       "      <th>cantidadtrafico</th>\n",
       "      <th>cantidadevasores</th>\n",
       "      <th>cantidadexentos787</th>\n",
       "      <th>año</th>\n",
       "      <th>mes</th>\n",
       "      <th>añomes</th>\n",
       "      <th>recaudo</th>\n",
       "    </tr>\n",
       "  </thead>\n",
       "  <tbody>\n",
       "    <tr>\n",
       "      <th>0</th>\n",
       "      <td>1</td>\n",
       "      <td>ALVARADO</td>\n",
       "      <td>17</td>\n",
       "      <td>2015-08-21</td>\n",
       "      <td>2015-08-31</td>\n",
       "      <td>7000</td>\n",
       "      <td>27730</td>\n",
       "      <td>0.0</td>\n",
       "      <td>660.0</td>\n",
       "      <td>2015</td>\n",
       "      <td>8</td>\n",
       "      <td>2015-08</td>\n",
       "      <td>194110000</td>\n",
       "    </tr>\n",
       "    <tr>\n",
       "      <th>1</th>\n",
       "      <td>1</td>\n",
       "      <td>ALVARADO</td>\n",
       "      <td>25</td>\n",
       "      <td>2015-08-21</td>\n",
       "      <td>2015-08-31</td>\n",
       "      <td>7600</td>\n",
       "      <td>9930</td>\n",
       "      <td>0.0</td>\n",
       "      <td>70.0</td>\n",
       "      <td>2015</td>\n",
       "      <td>8</td>\n",
       "      <td>2015-08</td>\n",
       "      <td>75468000</td>\n",
       "    </tr>\n",
       "    <tr>\n",
       "      <th>2</th>\n",
       "      <td>1</td>\n",
       "      <td>ALVARADO</td>\n",
       "      <td>29</td>\n",
       "      <td>2015-08-21</td>\n",
       "      <td>2015-08-31</td>\n",
       "      <td>16100</td>\n",
       "      <td>1277</td>\n",
       "      <td>0.0</td>\n",
       "      <td>0.0</td>\n",
       "      <td>2015</td>\n",
       "      <td>8</td>\n",
       "      <td>2015-08</td>\n",
       "      <td>20559700</td>\n",
       "    </tr>\n",
       "    <tr>\n",
       "      <th>3</th>\n",
       "      <td>1</td>\n",
       "      <td>ALVARADO</td>\n",
       "      <td>31</td>\n",
       "      <td>2015-08-21</td>\n",
       "      <td>2015-08-31</td>\n",
       "      <td>20400</td>\n",
       "      <td>2074</td>\n",
       "      <td>0.0</td>\n",
       "      <td>0.0</td>\n",
       "      <td>2015</td>\n",
       "      <td>8</td>\n",
       "      <td>2015-08</td>\n",
       "      <td>42309600</td>\n",
       "    </tr>\n",
       "    <tr>\n",
       "      <th>4</th>\n",
       "      <td>1</td>\n",
       "      <td>ALVARADO</td>\n",
       "      <td>36</td>\n",
       "      <td>2015-08-21</td>\n",
       "      <td>2015-08-31</td>\n",
       "      <td>22900</td>\n",
       "      <td>4167</td>\n",
       "      <td>0.0</td>\n",
       "      <td>0.0</td>\n",
       "      <td>2015</td>\n",
       "      <td>8</td>\n",
       "      <td>2015-08</td>\n",
       "      <td>95424300</td>\n",
       "    </tr>\n",
       "  </tbody>\n",
       "</table>\n",
       "</div>"
      ],
      "text/plain": [
       "   idpeaje     peaje  categoriatarifa      desde      hasta  valortarifa  \\\n",
       "0        1  ALVARADO               17 2015-08-21 2015-08-31         7000   \n",
       "1        1  ALVARADO               25 2015-08-21 2015-08-31         7600   \n",
       "2        1  ALVARADO               29 2015-08-21 2015-08-31        16100   \n",
       "3        1  ALVARADO               31 2015-08-21 2015-08-31        20400   \n",
       "4        1  ALVARADO               36 2015-08-21 2015-08-31        22900   \n",
       "\n",
       "   cantidadtrafico  cantidadevasores  cantidadexentos787   año  mes   añomes  \\\n",
       "0            27730               0.0               660.0  2015    8  2015-08   \n",
       "1             9930               0.0                70.0  2015    8  2015-08   \n",
       "2             1277               0.0                 0.0  2015    8  2015-08   \n",
       "3             2074               0.0                 0.0  2015    8  2015-08   \n",
       "4             4167               0.0                 0.0  2015    8  2015-08   \n",
       "\n",
       "     recaudo  \n",
       "0  194110000  \n",
       "1   75468000  \n",
       "2   20559700  \n",
       "3   42309600  \n",
       "4   95424300  "
      ]
     },
     "execution_count": 20,
     "metadata": {},
     "output_type": "execute_result"
    }
   ],
   "source": [
    "datos.desde = pd.to_datetime(datos.desde)\n",
    "datos.hasta = pd.to_datetime(datos.hasta)\n",
    "datos.valortarifa = datos.valortarifa.astype('int')\n",
    "datos.cantidadtrafico = datos.cantidadtrafico.astype('int')\n",
    "datos.cantidadevasores = datos.cantidadevasores.apply(pd.to_numeric, errors='coerce')\n",
    "datos.cantidadexentos787 = datos.cantidadexentos787.apply(pd.to_numeric, errors='coerce')\n",
    "datos['año'] = pd.DatetimeIndex(datos['hasta']).year\n",
    "datos['mes'] = pd.DatetimeIndex(datos['hasta']).month\n",
    "datos['añomes'] = pd.to_datetime(datos.hasta).dt.to_period('M')\n",
    "datos['recaudo'] = datos.valortarifa * datos.cantidadtrafico\n",
    "datos.idpeaje = datos.idpeaje.astype('int')\n",
    "\n",
    "datos.head()"
   ]
  },
  {
   "cell_type": "code",
   "execution_count": 4,
   "id": "8fa9dad0",
   "metadata": {},
   "outputs": [],
   "source": [
    "cat = LabelEncoder().fit(datos.categoriatarifa)\n",
    "datos.categoriatarifa = cat.fit_transform(datos.categoriatarifa)"
   ]
  },
  {
   "cell_type": "code",
   "execution_count": 5,
   "id": "62db9275",
   "metadata": {},
   "outputs": [],
   "source": [
    "datos.cantidadevasores.fillna(0,inplace=True)\n",
    "datos.cantidadexentos787.fillna(0,inplace=True)"
   ]
  },
  {
   "cell_type": "code",
   "execution_count": 6,
   "id": "bbf8c929",
   "metadata": {},
   "outputs": [
    {
     "data": {
      "text/plain": [
       "idpeaje               0\n",
       "peaje                 0\n",
       "categoriatarifa       0\n",
       "desde                 0\n",
       "hasta                 0\n",
       "valortarifa           0\n",
       "cantidadtrafico       0\n",
       "cantidadevasores      0\n",
       "cantidadexentos787    0\n",
       "año                   0\n",
       "mes                   0\n",
       "añomes                0\n",
       "recaudo               0\n",
       "dtype: int64"
      ]
     },
     "execution_count": 6,
     "metadata": {},
     "output_type": "execute_result"
    }
   ],
   "source": [
    "pd.isna(datos).sum()"
   ]
  },
  {
   "cell_type": "code",
   "execution_count": 7,
   "id": "ca5855da",
   "metadata": {},
   "outputs": [],
   "source": [
    "columnasX = ['idpeaje','categoriatarifa','año','mes','valortarifa','cantidadevasores','cantidadexentos787']\n",
    "columnasY = ['cantidadtrafico']"
   ]
  },
  {
   "cell_type": "code",
   "execution_count": 24,
   "id": "405dacce",
   "metadata": {},
   "outputs": [],
   "source": [
    "datosT = datos[columnasX+columnasY].groupby(by=['idpeaje', 'categoriatarifa', 'valortarifa', 'año', 'mes'], as_index=False).sum()"
   ]
  },
  {
   "cell_type": "code",
   "execution_count": 25,
   "id": "c8a4f246",
   "metadata": {},
   "outputs": [],
   "source": [
    "Xtrain, Xtest, ytrain, ytest = train_test_split(datosT[columnasX], datosT[columnasY], test_size=0.30, random_state=8)"
   ]
  },
  {
   "cell_type": "markdown",
   "id": "613a67f4",
   "metadata": {},
   "source": [
    "# REVISIÓN OPCIONES DE MODELOS"
   ]
  },
  {
   "cell_type": "code",
   "execution_count": 33,
   "id": "489bd551",
   "metadata": {},
   "outputs": [],
   "source": [
    "def calculo_rmse(ypred,yTest,ypredTr,yTrain):\n",
    "    RMSE = round(mse(ypred, yTest, squared = False))\n",
    "    MSE = round(mse(ypred, yTest))\n",
    "    MAE = round(mae(ypred, yTest))\n",
    "    R2 = r2(ypred,yTest)\n",
    "\n",
    "    RMSE_Tr = round(mse(ypredTr, yTrain, squared = False))\n",
    "    MSE_Tr = round(mse(ypredTr, yTrain))\n",
    "    MAE_Tr = round(mae(ypredTr, yTrain))\n",
    "    R2_Tr = r2(ypredTr,yTrain)\n",
    "\n",
    "    # Cálculo del desempeño del modelo utilizando el RMSE y el MAE\n",
    "    print(f'El RMSE del modelo es de {RMSE}')\n",
    "    print(f'El MSE del modelo es de {MSE}')\n",
    "    print(f'El MAE del modelo es de {MAE}')\n",
    "    print(f'El MAE del modelo es de {R2}')\n",
    "\n",
    "    print(f'El RMSE del modelo en train es de {RMSE_Tr}')\n",
    "    print(f'El MSE del modelo en train es de {MSE_Tr}')\n",
    "    print(f'El MAE del modelo en train es de {MAE_Tr}')\n",
    "    print(f'El r2 del modelo en train es de {R2_Tr}')"
   ]
  },
  {
   "cell_type": "markdown",
   "id": "bef4aa6b",
   "metadata": {},
   "source": [
    "## Random Forest"
   ]
  },
  {
   "cell_type": "code",
   "execution_count": 10,
   "id": "28277e89",
   "metadata": {},
   "outputs": [
    {
     "name": "stdout",
     "output_type": "stream",
     "text": [
      "El parámetro max_depth que mejor calibra el modelo es 38\n"
     ]
    },
    {
     "data": {
      "image/png": "[encoded data removed]",
      "text/plain": [
       "<Figure size 432x288 with 1 Axes>"
      ]
     },
     "metadata": {
      "needs_background": "light"
     },
     "output_type": "display_data"
    }
   ],
   "source": [
    "np.random.seed(123)\n",
    "\n",
    "# Creación de lista de valores para iterar sobre diferentes valores de max_depth\n",
    "max_depth_range = range(28, 40 ,2)\n",
    "\n",
    "# Definición de lista para almacenar el rmse promedio para cada valor de max_depth\n",
    "rmse_scores = []\n",
    "\n",
    "# Uso de un 5-fold cross-validation para cada valor de max_depth\n",
    "for max_depth in max_depth_range:\n",
    "    reg = RandomForestRegressor(max_depth = max_depth, n_jobs=-1)\n",
    "    scores = cross_val_score(reg, Xtrain, ytrain, cv = 5, scoring = 'neg_mean_squared_error', n_jobs=-1)\n",
    "    rmse_scores.append(np.mean(np.sqrt(np.abs(scores))))\n",
    "\n",
    "# Gráfica del desempeño del modelo vs la cantidad de max_depth\n",
    "plt.plot(max_depth_range, rmse_scores)\n",
    "plt.xlabel('max_depth')\n",
    "plt.ylabel('RMSE')\n",
    "best_max_depth = max_depth_range[rmse_scores.index(min(rmse_scores))]\n",
    "print(f'El parámetro max_depth que mejor calibra el modelo es {best_max_depth}')"
   ]
  },
  {
   "cell_type": "code",
   "execution_count": 11,
   "id": "2b63fd66",
   "metadata": {},
   "outputs": [
    {
     "name": "stdout",
     "output_type": "stream",
     "text": [
      "El parámetro max_features que mejor calibra el modelo es 5\n"
     ]
    },
    {
     "data": {
      "image/png": "[encoded data removed]",
      "text/plain": [
       "<Figure size 432x288 with 1 Axes>"
      ]
     },
     "metadata": {
      "needs_background": "light"
     },
     "output_type": "display_data"
    }
   ],
   "source": [
    "np.random.seed(123)\n",
    "\n",
    "# Creación de lista de valores para iterar sobre diferentes valores de max_features\n",
    "feature_range = range(1, Xtrain.shape[1] + 1)\n",
    "\n",
    "# Definición de lista para almacenar el rmse promedio para cada valor de max_features\n",
    "rmse_scores = []\n",
    "\n",
    "# Uso de un 5-fold cross-validation para cada valor de max_features\n",
    "for feature in feature_range:\n",
    "    reg = RandomForestRegressor(max_depth = best_max_depth, max_features = feature, n_jobs=-1)\n",
    "    scores = cross_val_score(reg, Xtrain, ytrain, cv = 5, scoring = 'neg_mean_squared_error', n_jobs=-1)\n",
    "    rmse_scores.append(np.mean(np.sqrt(np.abs(scores))))\n",
    "\n",
    "# Gráfica del desempeño del modelo vs la cantidad de max_features\n",
    "plt.plot(feature_range, rmse_scores)\n",
    "plt.xlabel('max_features')\n",
    "plt.ylabel('RMSE')\n",
    "best_max_feau = rmse_scores.index(min(rmse_scores)) + 1\n",
    "print(f'El parámetro max_features que mejor calibra el modelo es {best_max_feau}')"
   ]
  },
  {
   "cell_type": "code",
   "execution_count": 12,
   "id": "cdeb0587",
   "metadata": {},
   "outputs": [
    {
     "name": "stdout",
     "output_type": "stream",
     "text": [
      "El parámetro n_estimators que mejor calibra el modelo es 300\n"
     ]
    },
    {
     "data": {
      "image/png": "[encoded data removed]",
      "text/plain": [
       "<Figure size 432x288 with 1 Axes>"
      ]
     },
     "metadata": {
      "needs_background": "light"
     },
     "output_type": "display_data"
    }
   ],
   "source": [
    "np.random.seed(123)\n",
    "\n",
    "# Creación de lista de valores para iterar sobre diferentes valores de n_estimators\n",
    "estimator_range = range(200, 400, 20)\n",
    "\n",
    "# Definición de lista para almacenar el rmse promedio para cada valor de n_estimators\n",
    "rmse_scores = []\n",
    "\n",
    "# Uso de un 5-fold cross-validation para cada valor de n_estimators\n",
    "for estimator in estimator_range:\n",
    "    reg = RandomForestRegressor(max_depth = best_max_depth, max_features = best_max_feau, n_estimators = estimator, n_jobs=-1)\n",
    "    scores = cross_val_score(reg, Xtrain, ytrain, cv = 5, scoring = 'neg_mean_squared_error', n_jobs=-1)\n",
    "    rmse_scores.append(np.mean(np.sqrt(np.abs(scores))))\n",
    "\n",
    "# Gráfica del desempeño del modelo vs la cantidad de n_estimators\n",
    "plt.plot(estimator_range, rmse_scores)\n",
    "plt.xlabel('n_estimators')\n",
    "plt.ylabel('RMSE')\n",
    "best_estimator_range = estimator_range[rmse_scores.index(min(rmse_scores))]\n",
    "print(f'El parámetro n_estimators que mejor calibra el modelo es {best_estimator_range}')"
   ]
  },
  {
   "cell_type": "code",
   "execution_count": 13,
   "id": "4356defd",
   "metadata": {},
   "outputs": [
    {
     "name": "stdout",
     "output_type": "stream",
     "text": [
      "El RMSE del modelo es de 10048\n",
      "El MAE del modelo es de 2790\n",
      "El R^2 del modelo es de 0.9657380473257273\n"
     ]
    }
   ],
   "source": [
    "np.random.seed(123)\n",
    "\n",
    "# Implementación y ajuste del modelo de regresión de Random Forest calibrado con los datos de entrenamiento\n",
    "rfcreg = RandomForestRegressor(max_depth = best_max_depth, max_features = best_max_feau, n_estimators = best_estimator_range).fit(Xtrain, ytrain)\n",
    "\n",
    "# Predicción con los datos de prueba\n",
    "ypred = rfcreg.predict(Xtest)\n",
    "\n",
    "RMSE_RFC = round(mean_squared_error(ypred, ytest, squared = False))\n",
    "MAE_RFC = round(mean_absolute_error(ypred, ytest))\n",
    "r2 = r2_score(ytest, ypred)\n",
    "# Cálculo del desempeño del modelo utilizando el RMSE y el MAE\n",
    "print(f'El RMSE del modelo es de {RMSE_RFC}')\n",
    "print(f'El MAE del modelo es de {MAE_RFC}')\n",
    "print(f'El R^2 del modelo es de {r2}')"
   ]
  },
  {
   "cell_type": "markdown",
   "id": "daedeff3",
   "metadata": {},
   "source": [
    "## K vecinos"
   ]
  },
  {
   "cell_type": "code",
   "execution_count": 14,
   "id": "13e4b009",
   "metadata": {},
   "outputs": [
    {
     "name": "stdout",
     "output_type": "stream",
     "text": [
      "Mejores parámetros: {'algorithm': 'brute', 'n_neighbors': 7, 'weights': 'distance'}\n",
      "El RMSE del modelo es de 21325\n",
      "El R^2 del modelo es de 0.8456778097629603\n"
     ]
    }
   ],
   "source": [
    "# parámetros\n",
    "parametros_grid = {\n",
    "    'n_neighbors': [3, 5, 7],  # Puedes ajustar estos valores según tus necesidades\n",
    "    'weights': ['uniform', 'distance'],\n",
    "    'algorithm': ['auto', 'ball_tree', 'kd_tree', 'brute']\n",
    "}\n",
    "# Inicializa el modelo de KNeighborsRegressor\n",
    "regKN = KNeighborsRegressor()\n",
    "\n",
    "# Se utiliza GridSearchCV para encontrar los mejores parámetros\n",
    "grid_regKN = GridSearchCV(regKN, parametros_grid, cv=5, scoring='neg_mean_squared_error', n_jobs=-1)\n",
    "grid_regKN.fit(Xtrain, ytrain)\n",
    "\n",
    "# Obtiene el mejor modelo con los mejores parámetros\n",
    "mejor_regKN = grid_regKN.best_estimator_\n",
    "\n",
    "# Predicciones con el modelo ajustado\n",
    "predRegKN = mejor_regKN.predict(Xtest)\n",
    "\n",
    "# Muestra los mejores parámetros encontrados\n",
    "print(f\"Mejores parámetros: {grid_regKN.best_params_}\")\n",
    "\n",
    "# Métricas \n",
    "RMSE_regKN = round(mean_squared_error(predRegKN, ytest, squared=False))\n",
    "r2_regKN = r2_score(ytest, predRegKN)\n",
    "print(f'El RMSE del modelo es de {RMSE_regKN}')\n",
    "print(f'El R^2 del modelo es de {r2_regKN}')"
   ]
  },
  {
   "cell_type": "code",
   "execution_count": 15,
   "id": "72315c1b",
   "metadata": {},
   "outputs": [
    {
     "data": {
      "text/plain": [
       "array([[92154.56521739],\n",
       "       [65918.80683934],\n",
       "       [ 1700.43046148],\n",
       "       ...,\n",
       "       [ 6676.16495016],\n",
       "       [ 4429.86580041],\n",
       "       [ 2898.57526938]])"
      ]
     },
     "execution_count": 15,
     "metadata": {},
     "output_type": "execute_result"
    }
   ],
   "source": [
    "regKN = KNeighborsRegressor(n_neighbors=7,weights='distance',algorithm='brute')\n",
    "regKN.fit(Xtrain,ytrain)\n",
    "predRegKN = regKN.predict(Xtest)\n",
    "predRegKN"
   ]
  },
  {
   "cell_type": "markdown",
   "id": "09e4eabc",
   "metadata": {},
   "source": [
    "## XGBoost"
   ]
  },
  {
   "cell_type": "code",
   "execution_count": 27,
   "id": "0a9a29ba",
   "metadata": {},
   "outputs": [
    {
     "name": "stdout",
     "output_type": "stream",
     "text": [
      "Fitting 3 folds for each of 2880 candidates, totalling 8640 fits\n"
     ]
    },
    {
     "data": {
      "text/plain": [
       "{'colsample_bytree': 0.8,\n",
       " 'gamma': 0.0,\n",
       " 'learning_rate': 0.15,\n",
       " 'max_depth': 10,\n",
       " 'min_child_weight': 4,\n",
       " 'subsample': 0.9}"
      ]
     },
     "execution_count": 27,
     "metadata": {},
     "output_type": "execute_result"
    }
   ],
   "source": [
    "#n_estimators=1000, scale_pos_weight=1, reg_alpha= 0.005\n",
    "param_test = {\n",
    "    'learning_rate':[0.01,0.05,0.1,0.15],\n",
    "    'gamma':[i/10.0 for i in range(0,5)],\n",
    "    'colsample_bytree':[i/10.0 for i in range(6,10)],\n",
    "    'max_depth':[6,8,10],\n",
    "    'min_child_weight':[4,5,6],\n",
    "    'subsample':[i/10.0 for i in range(6,10)]\n",
    "}\n",
    "gsearch2 = GridSearchCV(estimator = XGBRegressor(n_jobs=-1,seed=123), \n",
    "param_grid = param_test, scoring='neg_root_mean_squared_error',n_jobs=-1, cv=3, verbose=True)\n",
    "gsearch2.fit(Xtrain,ytrain)\n",
    "gsearch2.best_params_"
   ]
  },
  {
   "cell_type": "code",
   "execution_count": 28,
   "id": "f2dbe76c",
   "metadata": {},
   "outputs": [
    {
     "data": {
      "text/plain": [
       "-10696.454155121775"
      ]
     },
     "execution_count": 28,
     "metadata": {},
     "output_type": "execute_result"
    }
   ],
   "source": [
    "gsearch2.best_score_"
   ]
  },
  {
   "cell_type": "code",
   "execution_count": 29,
   "id": "301b2ef7",
   "metadata": {},
   "outputs": [
    {
     "name": "stdout",
     "output_type": "stream",
     "text": [
      "Fitting 3 folds for each of 13 candidates, totalling 39 fits\n"
     ]
    },
    {
     "data": {
      "text/plain": [
       "{'n_estimators': 650}"
      ]
     },
     "execution_count": 29,
     "metadata": {},
     "output_type": "execute_result"
    }
   ],
   "source": [
    "#n_estimators=1000, scale_pos_weight=1, reg_alpha= 0.005\n",
    "param_test = {\n",
    "    'n_estimators':[i for i in range(100,750,50)]\n",
    "}\n",
    "gsearch3 = GridSearchCV(estimator = XGBRegressor(learning_rate = 0.15, max_depth=10, min_child_weight=4,gamma=0,\n",
    "                                                 subsample=0.9, colsample_bytree=0.8, nthread=4, scale_pos_weight=1, \n",
    "                                                 reg_alpha= 0.005,seed=123),\n",
    "                        param_grid = param_test, scoring='neg_root_mean_squared_error',n_jobs=-1, cv=3, verbose=True)\n",
    "gsearch3.fit(Xtrain,ytrain)\n",
    "gsearch3.best_params_"
   ]
  },
  {
   "cell_type": "code",
   "execution_count": 30,
   "id": "1ab2aecd",
   "metadata": {},
   "outputs": [
    {
     "data": {
      "text/plain": [
       "-10107.683447644902"
      ]
     },
     "execution_count": 30,
     "metadata": {},
     "output_type": "execute_result"
    }
   ],
   "source": [
    "gsearch3.best_score_"
   ]
  },
  {
   "cell_type": "markdown",
   "id": "6ebf7519",
   "metadata": {},
   "source": [
    "# MODELOS ESCOGIDOS"
   ]
  },
  {
   "cell_type": "code",
   "execution_count": 34,
   "id": "ec719a03",
   "metadata": {},
   "outputs": [
    {
     "name": "stdout",
     "output_type": "stream",
     "text": [
      "El RMSE del modelo es de 8967\n",
      "El MSE del modelo es de 80405705\n",
      "El MAE del modelo es de 2795\n",
      "El MAE del modelo es de 0.9732949966782461\n",
      "El RMSE del modelo en train es de 1956\n",
      "El MSE del modelo en train es de 3825104\n",
      "El MAE del modelo en train es de 989\n",
      "El r2 del modelo en train es de 0.9987708474069206\n"
     ]
    }
   ],
   "source": [
    "# Implementación y ajuste del modelo de regresión de Random Forest calibrado con los datos de entrenamiento\n",
    "regXGB4 = XGBRegressor(learning_rate = 0.15, n_estimators=650, max_depth=10, min_child_weight=4, \n",
    "                       gamma=0, subsample=0.9, colsample_bytree=0.8, nthread=4, scale_pos_weight=1, \n",
    "                       reg_alpha= 0.01,seed=123).fit(Xtrain, ytrain)\n",
    "ypredTrXGB4 = regXGB4.predict(Xtrain)\n",
    "ypredXGB4 = regXGB4.predict(Xtest)\n",
    "\n",
    "calculo_rmse(ypredXGB4,ytest,ypredTrXGB4,ytrain)"
   ]
  },
  {
   "cell_type": "code",
   "execution_count": 38,
   "id": "cac508ef",
   "metadata": {},
   "outputs": [
    {
     "name": "stdout",
     "output_type": "stream",
     "text": [
      "El RMSE del modelo es de 10603\n",
      "El MSE del modelo es de 112414561\n",
      "El MAE del modelo es de 2853\n",
      "El MAE del modelo es de 0.9621697546484946\n",
      "El RMSE del modelo en train es de 3972\n",
      "El MSE del modelo en train es de 15776161\n",
      "El MAE del modelo en train es de 1057\n",
      "El r2 del modelo en train es de 0.9948018792289975\n"
     ]
    }
   ],
   "source": [
    "# Implementación y ajuste del modelo de regresión de Random Forest calibrado con los datos de entrenamiento\n",
    "rfcreg = RandomForestRegressor(max_depth = 38, max_features = 5, n_estimators = 300, n_jobs=-1).fit(Xtrain, ytrain)\n",
    "\n",
    "ypredTrRF = rfcreg.predict(Xtrain)\n",
    "ypredRF = rfcreg.predict(Xtest)\n",
    "\n",
    "calculo_rmse(ypredRF,ytest,ypredTrRF,ytrain)"
   ]
  }
 ],
 "metadata": {
  "kernelspec": {
   "display_name": "Python 3 (ipykernel)",
   "language": "python",
   "name": "python3"
  },
  "language_info": {
   "codemirror_mode": {
    "name": "ipython",
    "version": 3
   },
   "file_extension": ".py",
   "mimetype": "text/x-python",
   "name": "python",
   "nbconvert_exporter": "python",
   "pygments_lexer": "ipython3",
   "version": "3.9.7"
  }
 },
 "nbformat": 4,
 "nbformat_minor": 5
}
